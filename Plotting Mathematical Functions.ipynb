{
 "cells": [
  {
   "cell_type": "code",
   "execution_count": 1,
   "metadata": {},
   "outputs": [
    {
     "data": {
      "text/plain": [
       "'\\nProgrammer: Baadshah Verma\\n\\nThis program draws a cartesian plane using tkinter and plots different\\nmathematical functions on the plane.\\n\\n'"
      ]
     },
     "execution_count": 1,
     "metadata": {},
     "output_type": "execute_result"
    }
   ],
   "source": [
    "'''\n",
    "Programmer: Baadshah Verma\n",
    "\n",
    "This program draws a cartesian plane using tkinter and plots different\n",
    "mathematical functions on the plane.\n",
    "\n",
    "'''"
   ]
  },
  {
   "cell_type": "code",
   "execution_count": 2,
   "metadata": {
    "collapsed": true
   },
   "outputs": [],
   "source": [
    "from tkinter import *\n",
    "from math import *"
   ]
  },
  {
   "cell_type": "code",
   "execution_count": 3,
   "metadata": {
    "collapsed": true
   },
   "outputs": [],
   "source": [
    "CANV_WIDTH = 750\n",
    "CANV_HEIGHT = 250\n",
    "\n",
    "def draw_axes(scale, tick_length):\n",
    "    \"\"\"Draws a horizontal line across the middle of the canvas, and a vertical\n",
    "    line down the centre of the canvas using tkinter's default line thickness\n",
    "    and colour.\n",
    "    \"\"\"\n",
    "    # Draw the x axis\n",
    "    width = w.winfo_width()\n",
    "    w.create_line(get_x(-width//2),get_y(0),get_x(width//2),get_y(0))\n",
    "    \n",
    "    # Draw the y axis\n",
    "    height = w.winfo_height()\n",
    "    w.create_line(get_x(0),get_y(-height//2),get_x(0),get_y(height//2))\n",
    "\n",
    "    #ticks on x axis\n",
    "    for i in range(get_x(-width), get_x(width+1), scale):\n",
    "        w.create_line(get_x(i), get_y(0), get_x(i), get_y(-1 * tick_length))\n",
    "\n",
    "    #ticks on y axis\n",
    "    for i in range(get_y(height), get_y(-height+1), scale):\n",
    "        w.create_line(get_x(0), get_y(i), get_x(-1*tick_length), get_y(i))"
   ]
  },
  {
   "cell_type": "code",
   "execution_count": 4,
   "metadata": {
    "collapsed": true
   },
   "outputs": [],
   "source": [
    "def get_x(x_val):\n",
    "    \"\"\"Maps a Cartesian-style x coordinate (where x is 0 at the window's\n",
    "    horizontal centre) onto the tkinter canvas (where x is 0 is at the left\n",
    "    edge). x_val is the Cartesian x coordinate. The units of measurerment\n",
    "    are pixels.\n",
    "    \"\"\"\n",
    "\n",
    "    #converts the coordinates and returns x coordinate\n",
    "    width = w.winfo_width()\n",
    "    x = x_val + (width//2)\n",
    "    return x"
   ]
  },
  {
   "cell_type": "code",
   "execution_count": 5,
   "metadata": {
    "collapsed": true
   },
   "outputs": [],
   "source": [
    "def get_y(y_val):\n",
    "    \"\"\"Maps a Cartesian-style y coordinate (where y is 0 at the window's\n",
    "    vertical centre, and in which y grows in value upwards) onto the tkinter\n",
    "    canvas (where y is 0 is at the top edge, and y grows in value downwards).\n",
    "    y_val is the Cartesian y coordinate. The returned value is the\n",
    "    corresponding tkinter canvas x coordinate. The units of measurerment are\n",
    "    pixels.\n",
    "    \"\"\"\n",
    "\n",
    "    #converts the coordinates and returns the y coordinate\n",
    "    height = w.winfo_height()\n",
    "    y = y_val - (height//2)\n",
    "    return - y   "
   ]
  },
  {
   "cell_type": "code",
   "execution_count": 6,
   "metadata": {
    "collapsed": true
   },
   "outputs": [],
   "source": [
    "def plot_point(x,y,colour='red'):\n",
    "    \"\"\"Draws a single pixel \"dot\" at Cartesian coordinates (x,y).\n",
    "    The optional colour parameter determines the colour of the dot.\n",
    "    \"\"\"\n",
    "\n",
    "    #plots a single dot at (x,y) using create_oval in red\n",
    "    w.create_oval(get_x(x), get_y(y), get_x(x), get_y(y), outline=colour)\n",
    "\n",
    "#This acts as the range method, but allows for a step that is a float number\n",
    "def seq(start, stop, step=1):\n",
    "    n = int(round((stop - start)/float(step)))\n",
    "    if n > 1:\n",
    "        return([start + step*i for i in range(n+1)])\n",
    "    elif n == 1:\n",
    "        return([start])\n",
    "    else:\n",
    "        return([])"
   ]
  },
  {
   "cell_type": "code",
   "execution_count": 7,
   "metadata": {
    "collapsed": true
   },
   "outputs": [],
   "source": [
    "def plot_fn(fn,start_x,end_x,scale=20,colour='black'):\n",
    "\n",
    "    #runs the start and end values through a for loop, skipping by the scale and plots the function using create_oval\n",
    "    for i in seq(start_x, end_x + 1, 1/scale):\n",
    "        w.create_oval(get_x(i*scale), get_y(fn(i)*scale), get_x(i*scale), get_y(fn(i)*scale), outline=colour)\n",
    "        \n",
    "    \"\"\"Plots a function, y = fn(x), onto the canvas.\n",
    "\n",
    "    Parameters:\n",
    "\n",
    "    * fn is a function that takes a single number parameter and returns a\n",
    "      number.\n",
    " \n",
    "    * start_x is the left-most x value to be passed to fn.\n",
    "\n",
    "    * end_x is the right-most x value to be passed to fn.\n",
    "\n",
    "    * scale (optional) is used as a multiplier in both the x and y directions\n",
    "      to \"zoom in\" on the plot. It is also used to increase the number of x\n",
    "      coordinates \"fed\" to the fn function, to fill in all the horizontal gaps\n",
    "      that would otherwise appear between the plotted points. scale is\n",
    "      particularly useful for showing detail that would be otherwise be lost.\n",
    "\n",
    "    * colour (optional) determines the colour of the plotted function.\n",
    "\n",
    "    Note: nothing bad happens if start_x, end_x, or any y value computed from\n",
    "    fn(x) is off the canvas. Those points simply will not be displayed.\n",
    "    (Note to the student programmer: This happens automatically. You don't\n",
    "    have to program it.)\n",
    "    \"\"\"\n",
    "    \n",
    "def square(x):\n",
    "    \"\"\"Returns the square of x\"\"\"\n",
    "    return x * x\n",
    "\n",
    "def func_1(x):\n",
    "    \"\"\"A quadratic polynomial function (for testing).\"\"\"\n",
    "    return -3 * square(x) + 2 * x + 1\n",
    "    \n",
    "def func_2(x):\n",
    "    \"\"\"Your choice of a function\"\"\"\n",
    "    return x**2 + 3 # replace this line\n",
    "    \n",
    "def func_3(x):\n",
    "    \"\"\"Your choice of a function\"\"\"\n",
    "    return x ** 3 # replace this line"
   ]
  },
  {
   "cell_type": "code",
   "execution_count": 8,
   "metadata": {
    "collapsed": true
   },
   "outputs": [],
   "source": [
    "master = Tk()\n",
    "master.title('Plot THIS!')\n",
    "w = Canvas(master,\n",
    "           width=CANV_WIDTH,\n",
    "           height=CANV_HEIGHT)\n",
    "w.pack(expand=YES, fill=BOTH)\n",
    "w.update() # makes w.winfo_width() and w.winfo_height() meaningful\n",
    "\n",
    "def main():\n",
    "    draw_axes(40, 4)\n",
    "    #draw_axes(40, -4)\n",
    "    plot_point(0,0)\n",
    "    plot_fn(sin,-20,20,40,'green') # sin() is defined in the math module\n",
    "    plot_fn(cos,-20,20,40,'blue')  # cos() is defined in the math module\n",
    "    plot_fn(square,-20,20,40,'red')\n",
    "    plot_fn(func_1,-20,20,40,'purple')\n",
    "    plot_fn(func_2,-20,20,20,'brown') #adjusted scale to show full function\n",
    "    plot_fn(func_3,-20,20,40,'cyan')\n",
    "    \n",
    "main()\n",
    "\n",
    "mainloop()"
   ]
  },
  {
   "cell_type": "code",
   "execution_count": null,
   "metadata": {
    "collapsed": true
   },
   "outputs": [],
   "source": []
  },
  {
   "cell_type": "code",
   "execution_count": null,
   "metadata": {
    "collapsed": true
   },
   "outputs": [],
   "source": []
  }
 ],
 "metadata": {
  "kernelspec": {
   "display_name": "Python 3",
   "language": "python",
   "name": "python3"
  },
  "language_info": {
   "codemirror_mode": {
    "name": "ipython",
    "version": 3
   },
   "file_extension": ".py",
   "mimetype": "text/x-python",
   "name": "python",
   "nbconvert_exporter": "python",
   "pygments_lexer": "ipython3",
   "version": "3.6.3"
  }
 },
 "nbformat": 4,
 "nbformat_minor": 2
}
